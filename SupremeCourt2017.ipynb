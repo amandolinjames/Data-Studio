{
 "cells": [
  {
   "cell_type": "code",
   "execution_count": 2,
   "metadata": {
    "collapsed": true
   },
   "outputs": [],
   "source": [
    "from lxml import html\n",
    "from urllib.parse import urljoin\n",
    "from subprocess import check_output, STDOUT, call\n",
    "import requests\n",
    "import os\n",
    "import urllib.request\n",
    "import requests\n",
    "import csv"
   ]
  },
  {
   "cell_type": "code",
   "execution_count": 3,
   "metadata": {},
   "outputs": [
    {
     "name": "stdout",
     "output_type": "stream",
     "text": [
      "Downloading ...\n",
      "Downloading from http://www.supremecourt.gov/oral_argumentsURL\n",
      "Downloading from http://www.supremecourt.gov/oral_arguments/argument_transcripts/2017/17-530_2co3.pdf\n",
      "Downloading from http://www.supremecourt.gov/oral_arguments/argument_transcripts/2017/16-1011_j5fl.pdf\n",
      "Downloading from http://www.supremecourt.gov/oral_arguments/argument_transcripts/2017/17-494_9o6b.pdf\n",
      "Downloading from http://www.supremecourt.gov/oral_arguments/argument_transcripts/2017/16-1215_f2ah.pdf\n",
      "Downloading from http://www.supremecourt.gov/oral_arguments/argument_transcripts/2017/16-1519_09m1.pdf\n",
      "Downloading from http://www.supremecourt.gov/oral_arguments/argument_transcripts/2017/17-269_n6p1.pdf\n",
      "Downloading from http://www.supremecourt.gov/oral_arguments/argument_transcripts/2017/17-130_1p23.pdf\n",
      "Downloading from http://www.supremecourt.gov/oral_arguments/argument_transcripts/2017/17-459_00m5.pdf\n",
      "Downloading from http://www.supremecourt.gov/oral_arguments/argument_transcripts/2017/17-5639_5ifl.pdf\n",
      "Downloading from http://www.supremecourt.gov/oral_arguments/argument_transcripts/2017/17-586_4357.pdf\n",
      "Downloading from http://www.supremecourt.gov/oral_arguments/argument_transcripts/2017/16-1220_8nj9.pdf\n",
      "Downloading from http://www.supremecourt.gov/oral_arguments/argument_transcripts/2017/17-965_l5gm.pdf\n",
      "Downloading from http://www.supremecourt.gov/oral_arguments/argument_transcripts/2017/16-1432_c1ne.pdf\n",
      "Downloading from http://www.supremecourt.gov/oral_arguments/argument_transcripts/2017/16-1140_o759.pdf\n",
      "Downloading from http://www.supremecourt.gov/oral_arguments/argument_transcripts/2017/17-387_097c.pdf\n",
      "Downloading from http://www.supremecourt.gov/oral_arguments/argument_transcripts/2017/17-312_4f57.pdf\n",
      "Downloading from http://www.supremecourt.gov/oral_arguments/argument_transcripts/2017/17-432_c07d.pdf\n",
      "Downloading from http://www.supremecourt.gov/oral_arguments/argument_transcripts/2017/17-155_g314.pdf\n",
      "Downloading from http://www.supremecourt.gov/oral_arguments/argument_transcripts/2017/17-5716_6468.pdf\n",
      "Downloading from http://www.supremecourt.gov/oral_arguments/argument_transcripts/2017/17-333_n6io.pdf\n",
      "Downloading from http://www.supremecourt.gov/oral_arguments/argument_transcripts/2017/16-1348_886g.pdf\n",
      "Downloading from http://www.supremecourt.gov/oral_arguments/argument_transcripts/2017/16-1495_4814.pdf\n",
      "Downloading from http://www.supremecourt.gov/oral_arguments/argument_transcripts/2017/16-9493_82pb.pdf\n",
      "Downloading from http://www.supremecourt.gov/oral_arguments/argument_transcripts/2017/17-43_q46p.pdf\n",
      "Downloading from http://www.supremecourt.gov/oral_arguments/argument_transcripts/2017/16-1466_bocf.pdf\n",
      "Downloading from http://www.supremecourt.gov/oral_arguments/argument_transcripts/2017/16-1454_o7jp.pdf\n",
      "Downloading from http://www.supremecourt.gov/oral_arguments/argument_transcripts/2017/17-2_9pl4.pdf\n",
      "Downloading from http://www.supremecourt.gov/oral_arguments/argument_transcripts/2017/17-21_ljgm.pdf\n",
      "Downloading from http://www.supremecourt.gov/oral_arguments/argument_transcripts/2017/16-1435_2co3.pdf\n",
      "Downloading from http://www.supremecourt.gov/oral_arguments/argument_transcripts/2017/141-orig_b8dg.pdf\n",
      "Downloading from http://www.supremecourt.gov/oral_arguments/argument_transcripts/2017/142-orig_p8k0.pdf\n",
      "Downloading from http://www.supremecourt.gov/oral_arguments/argument_transcripts/2017/16-1371_l6hc.pdf\n",
      "Downloading from http://www.supremecourt.gov/oral_arguments/argument_transcripts/2017/16-1027_p4k8.pdf\n",
      "Downloading from http://www.supremecourt.gov/oral_arguments/argument_transcripts/2017/16-980_n6p1.pdf\n",
      "Downloading from http://www.supremecourt.gov/oral_arguments/argument_transcripts/2017/16-1150_b97c.pdf\n",
      "Downloading from http://www.supremecourt.gov/oral_arguments/argument_transcripts/2017/16-961_768b.pdf\n",
      "Downloading from http://www.supremecourt.gov/oral_arguments/argument_transcripts/2017/16-1362_bb7j.pdf\n",
      "Downloading from http://www.supremecourt.gov/oral_arguments/argument_transcripts/2017/16-8255_m2hl.pdf\n",
      "Downloading from http://www.supremecourt.gov/oral_arguments/argument_transcripts/2017/16-712_7kh7.pdf\n",
      "Downloading from http://www.supremecourt.gov/oral_arguments/argument_transcripts/2017/16-969_ihdk.pdf\n",
      "Downloading from http://www.supremecourt.gov/oral_arguments/argument_transcripts/2017/15-1439_4g15.pdf\n",
      "Downloading from http://www.supremecourt.gov/oral_arguments/argument_transcripts/2017/16-1276_9ok0.pdf\n",
      "Downloading from http://www.supremecourt.gov/oral_arguments/argument_transcripts/2017/16-402_6khn.pdf\n",
      "Downloading from http://www.supremecourt.gov/oral_arguments/argument_transcripts/2017/16-476_6h78.pdf\n",
      "Downloading from http://www.supremecourt.gov/oral_arguments/argument_transcripts/2017/16-534_if5n.pdf\n",
      "Downloading from http://www.supremecourt.gov/oral_arguments/argument_transcripts/2017/16-111_f29g.pdf\n",
      "Downloading from http://www.supremecourt.gov/oral_arguments/argument_transcripts/2017/16-1067_m6hn.pdf\n",
      "Downloading from http://www.supremecourt.gov/oral_arguments/argument_transcripts/2017/16-1144_664d.pdf\n",
      "Downloading from http://www.supremecourt.gov/oral_arguments/argument_transcripts/2017/16-6795_1o13.pdf\n",
      "Downloading from http://www.supremecourt.gov/oral_arguments/argument_transcripts/2017/16-6855_6i79.pdf\n",
      "Downloading from http://www.supremecourt.gov/oral_arguments/argument_transcripts/2017/15-1509_n7jf.pdf\n",
      "Downloading from http://www.supremecourt.gov/oral_arguments/argument_transcripts/2017/16-460_3703.pdf\n",
      "Downloading from http://www.supremecourt.gov/oral_arguments/argument_transcripts/2017/16-784_j5f0.pdf\n",
      "Downloading from http://www.supremecourt.gov/oral_arguments/argument_transcripts/2017/16-498_pfa1.pdf\n",
      "Downloading from http://www.supremecourt.gov/oral_arguments/argument_transcripts/2017/16-285_q8l1.pdf\n",
      "Downloading from http://www.supremecourt.gov/oral_arguments/argument_transcripts/2017/15-1498_9p6b.pdf\n",
      "Downloading from http://www.supremecourt.gov/oral_arguments/argument_transcripts/2017/16-1161_mjn0.pdf\n",
      "Downloading from http://www.supremecourt.gov/oral_arguments/argument_transcripts/2017/15-1204_2c83.pdf\n",
      "Downloading from http://www.supremecourt.gov/oral_arguments/argument_transcripts/2017/15-1485_gfbi.pdf\n",
      "Downloading from http://www.supremecourt.gov/oral_arguments/argument_transcripts/2017/16-424_8l8c.pdf\n",
      "Downloading from http://www.supremecourt.gov/oral_arguments/argument_transcripts/2017/16-658_mli2.pdf\n",
      "Downloading from http://www.supremecourt.gov/oral_arguments/argument_transcripts/2017/16-299_3eah.pdf\n",
      "Downloading from http://www.supremecourt.gov/oral_arguments/argument_transcripts/2017/16-499_n24m.pdf\n"
     ]
    }
   ],
   "source": [
    "base_url = 'http://www.supremecourt.gov/oral_arguments'\n",
    "\n",
    "print (\"Downloading ...\")\n",
    "\n",
    "with open('2017-oral-args.tsv') as f:\n",
    "        reader = csv.reader(f, delimiter='\\t')\n",
    "        for row in reader:\n",
    "            pdf_url = base_url + row[1].lstrip('.')\n",
    "\n",
    "            print (\"Downloading from \" + pdf_url)\n",
    "            file_name = \"./2017/\" + row[0] + '.pdf'\n",
    "            \n",
    "\n",
    "            with open(file_name, 'wb') as f:\n",
    "                f.write(requests.get(pdf_url).content)\n"
   ]
  },
  {
   "cell_type": "code",
   "execution_count": 8,
   "metadata": {},
   "outputs": [
    {
     "ename": "CalledProcessError",
     "evalue": "Command 'pdftotext -layout 2017/15-1204.pdf -' returned non-zero exit status 127.",
     "output_type": "error",
     "traceback": [
      "\u001b[0;31m---------------------------------------------------------------------------\u001b[0m",
      "\u001b[0;31mCalledProcessError\u001b[0m                        Traceback (most recent call last)",
      "\u001b[0;32m<ipython-input-8-af6057a266cc>\u001b[0m in \u001b[0;36m<module>\u001b[0;34m()\u001b[0m\n\u001b[1;32m      4\u001b[0m         \u001b[0;32mif\u001b[0m \u001b[0;34m\".pdf\"\u001b[0m \u001b[0;32min\u001b[0m \u001b[0mf\u001b[0m\u001b[0;34m:\u001b[0m\u001b[0;34m\u001b[0m\u001b[0m\n\u001b[1;32m      5\u001b[0m             \u001b[0mshell_command\u001b[0m \u001b[0;34m=\u001b[0m \u001b[0;34m\"pdftotext -layout 2017/\"\u001b[0m \u001b[0;34m+\u001b[0m \u001b[0mf\u001b[0m \u001b[0;34m+\u001b[0m \u001b[0;34m\" -\"\u001b[0m\u001b[0;34m\u001b[0m\u001b[0m\n\u001b[0;32m----> 6\u001b[0;31m             \u001b[0mtranscript_txt\u001b[0m \u001b[0;34m=\u001b[0m \u001b[0mcheck_output\u001b[0m\u001b[0;34m(\u001b[0m\u001b[0mshell_command\u001b[0m\u001b[0;34m,\u001b[0m \u001b[0mshell\u001b[0m \u001b[0;34m=\u001b[0m \u001b[0;32mTrue\u001b[0m\u001b[0;34m)\u001b[0m\u001b[0;34m.\u001b[0m\u001b[0mdecode\u001b[0m\u001b[0;34m(\u001b[0m\u001b[0;34m\"utf-8\"\u001b[0m\u001b[0;34m,\u001b[0m \u001b[0;34m\"replace\"\u001b[0m\u001b[0;34m)\u001b[0m\u001b[0;34m\u001b[0m\u001b[0m\n\u001b[0m\u001b[1;32m      7\u001b[0m \u001b[0;34m\u001b[0m\u001b[0m\n\u001b[1;32m      8\u001b[0m             \u001b[0mnew_file\u001b[0m \u001b[0;34m=\u001b[0m \u001b[0;34m\"2017-txt/\"\u001b[0m \u001b[0;34m+\u001b[0m \u001b[0mf\u001b[0m \u001b[0;34m+\u001b[0m \u001b[0;34m\".txt\"\u001b[0m\u001b[0;34m\u001b[0m\u001b[0m\n",
      "\u001b[0;32m/usr/local/Cellar/python3/3.6.1/Frameworks/Python.framework/Versions/3.6/lib/python3.6/subprocess.py\u001b[0m in \u001b[0;36mcheck_output\u001b[0;34m(timeout, *popenargs, **kwargs)\u001b[0m\n\u001b[1;32m    334\u001b[0m \u001b[0;34m\u001b[0m\u001b[0m\n\u001b[1;32m    335\u001b[0m     return run(*popenargs, stdout=PIPE, timeout=timeout, check=True,\n\u001b[0;32m--> 336\u001b[0;31m                **kwargs).stdout\n\u001b[0m\u001b[1;32m    337\u001b[0m \u001b[0;34m\u001b[0m\u001b[0m\n\u001b[1;32m    338\u001b[0m \u001b[0;34m\u001b[0m\u001b[0m\n",
      "\u001b[0;32m/usr/local/Cellar/python3/3.6.1/Frameworks/Python.framework/Versions/3.6/lib/python3.6/subprocess.py\u001b[0m in \u001b[0;36mrun\u001b[0;34m(input, timeout, check, *popenargs, **kwargs)\u001b[0m\n\u001b[1;32m    416\u001b[0m         \u001b[0;32mif\u001b[0m \u001b[0mcheck\u001b[0m \u001b[0;32mand\u001b[0m \u001b[0mretcode\u001b[0m\u001b[0;34m:\u001b[0m\u001b[0;34m\u001b[0m\u001b[0m\n\u001b[1;32m    417\u001b[0m             raise CalledProcessError(retcode, process.args,\n\u001b[0;32m--> 418\u001b[0;31m                                      output=stdout, stderr=stderr)\n\u001b[0m\u001b[1;32m    419\u001b[0m     \u001b[0;32mreturn\u001b[0m \u001b[0mCompletedProcess\u001b[0m\u001b[0;34m(\u001b[0m\u001b[0mprocess\u001b[0m\u001b[0;34m.\u001b[0m\u001b[0margs\u001b[0m\u001b[0;34m,\u001b[0m \u001b[0mretcode\u001b[0m\u001b[0;34m,\u001b[0m \u001b[0mstdout\u001b[0m\u001b[0;34m,\u001b[0m \u001b[0mstderr\u001b[0m\u001b[0;34m)\u001b[0m\u001b[0;34m\u001b[0m\u001b[0m\n\u001b[1;32m    420\u001b[0m \u001b[0;34m\u001b[0m\u001b[0m\n",
      "\u001b[0;31mCalledProcessError\u001b[0m: Command 'pdftotext -layout 2017/15-1204.pdf -' returned non-zero exit status 127."
     ]
    }
   ],
   "source": [
    "indir = '2017'\n",
    "for root, dirs, filenames in os.walk(indir):\n",
    "    for f in filenames:\n",
    "        if \".pdf\" in f:\n",
    "            shell_command = \"pdftotext -layout 2017/\" + f + \" -\"\n",
    "            transcript_txt = check_output(shell_command, shell = True).decode(\"utf-8\", \"replace\")\n",
    "\n",
    "            new_file = \"2017-txt/\" + f + \".txt\"\n",
    "            to_write = open(new_file, \"w\")\n",
    "            to_write.write(transcript_txt)\n",
    "\n",
    "            print(f)\n"
   ]
  },
  {
   "cell_type": "code",
   "execution_count": null,
   "metadata": {
    "collapsed": true
   },
   "outputs": [],
   "source": []
  },
  {
   "cell_type": "code",
   "execution_count": null,
   "metadata": {
    "collapsed": true
   },
   "outputs": [],
   "source": []
  },
  {
   "cell_type": "code",
   "execution_count": null,
   "metadata": {
    "collapsed": true
   },
   "outputs": [],
   "source": []
  }
 ],
 "metadata": {
  "kernelspec": {
   "display_name": "Python 3",
   "language": "python",
   "name": "python3"
  },
  "language_info": {
   "codemirror_mode": {
    "name": "ipython",
    "version": 3
   },
   "file_extension": ".py",
   "mimetype": "text/x-python",
   "name": "python",
   "nbconvert_exporter": "python",
   "pygments_lexer": "ipython3",
   "version": "3.6.1"
  }
 },
 "nbformat": 4,
 "nbformat_minor": 2
}
